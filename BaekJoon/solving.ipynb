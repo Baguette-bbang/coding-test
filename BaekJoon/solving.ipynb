{
 "cells": [
  {
   "cell_type": "markdown",
   "metadata": {},
   "source": [
    "## 숨바꼭질 문제 - 백준, 1697번 실버1"
   ]
  },
  {
   "cell_type": "code",
   "execution_count": 19,
   "metadata": {},
   "outputs": [],
   "source": [
    "# 수빈이는 걷거나 순간이동이 가능하다.\n",
    "# 걷는다면 1초 후 X-1, X+1로 이동가능하다.\n",
    "# 순간이동이라면 1초 후 2*X의 위치로 이동한다.\n",
    "# 결국 brute force문제임\n",
    "# 너비 우선 탐색으로 풀면 됨.\n",
    "# 한 스텝마다 세갈래 길이 있음.(뒤로 앞으로 순간이동)\n",
    "# 종료 조건은 어떻게 되는건가? 도착하거나 도착점에서 2이상 벗어나거나\n",
    "# 방문하는 시점에 또 방문을 원한다면 그것은 안됨.\n",
    "from collections import deque\n",
    "N = 5\n",
    "K = 0\n",
    "\n",
    "graph = [[]for _ in range(K+2)]\n",
    "for i in range(K+2):\n",
    "    if i == 0:\n",
    "        graph[i].append(1)\n",
    "    elif i == K:\n",
    "        pass\n",
    "    elif i==K+1:\n",
    "        graph[i].append(i-1)\n",
    "    else:\n",
    "        if i-1 not in graph[i]:\n",
    "            graph[i].append(i-1)\n",
    "        if i+1 not in graph[i]:    \n",
    "            graph[i].append(i+1)\n",
    "        if i*2 not in graph[i] and i*2 < K+2:\n",
    "            graph[i].append(i*2)"
   ]
  },
  {
   "cell_type": "code",
   "execution_count": 20,
   "metadata": {},
   "outputs": [
    {
     "data": {
      "text/plain": [
       "[[1], [0]]"
      ]
     },
     "execution_count": 20,
     "metadata": {},
     "output_type": "execute_result"
    }
   ],
   "source": [
    "graph\n",
    "# 5-4-8-16-17\n",
    "# 5-10-9-18-17"
   ]
  },
  {
   "cell_type": "code",
   "execution_count": 18,
   "metadata": {},
   "outputs": [
    {
     "ename": "IndexError",
     "evalue": "list assignment index out of range",
     "output_type": "error",
     "traceback": [
      "\u001b[0;31m---------------------------------------------------------------------------\u001b[0m",
      "\u001b[0;31mIndexError\u001b[0m                                Traceback (most recent call last)",
      "\u001b[1;32m/Users/kang-youngmin/Desktop/coding/coding-test/BaekJoon/solving.ipynb 셀 4\u001b[0m line \u001b[0;36m2\n\u001b[1;32m     <a href='vscode-notebook-cell:/Users/kang-youngmin/Desktop/coding/coding-test/BaekJoon/solving.ipynb#W6sZmlsZQ%3D%3D?line=20'>21</a>\u001b[0m   sec\u001b[39m+\u001b[39m\u001b[39m=\u001b[39m\u001b[39m1\u001b[39m\n\u001b[1;32m     <a href='vscode-notebook-cell:/Users/kang-youngmin/Desktop/coding/coding-test/BaekJoon/solving.ipynb#W6sZmlsZQ%3D%3D?line=21'>22</a>\u001b[0m   \u001b[39mprint\u001b[39m(sec)\n\u001b[0;32m---> <a href='vscode-notebook-cell:/Users/kang-youngmin/Desktop/coding/coding-test/BaekJoon/solving.ipynb#W6sZmlsZQ%3D%3D?line=22'>23</a>\u001b[0m bfs(graph, N, visit)\n",
      "\u001b[1;32m/Users/kang-youngmin/Desktop/coding/coding-test/BaekJoon/solving.ipynb 셀 4\u001b[0m line \u001b[0;36m6\n\u001b[1;32m      <a href='vscode-notebook-cell:/Users/kang-youngmin/Desktop/coding/coding-test/BaekJoon/solving.ipynb#W6sZmlsZQ%3D%3D?line=3'>4</a>\u001b[0m sec \u001b[39m=\u001b[39m \u001b[39m0\u001b[39m\n\u001b[1;32m      <a href='vscode-notebook-cell:/Users/kang-youngmin/Desktop/coding/coding-test/BaekJoon/solving.ipynb#W6sZmlsZQ%3D%3D?line=4'>5</a>\u001b[0m queue \u001b[39m=\u001b[39m deque([start])\n\u001b[0;32m----> <a href='vscode-notebook-cell:/Users/kang-youngmin/Desktop/coding/coding-test/BaekJoon/solving.ipynb#W6sZmlsZQ%3D%3D?line=5'>6</a>\u001b[0m visit[start] \u001b[39m=\u001b[39m \u001b[39mTrue\u001b[39;00m\n\u001b[1;32m      <a href='vscode-notebook-cell:/Users/kang-youngmin/Desktop/coding/coding-test/BaekJoon/solving.ipynb#W6sZmlsZQ%3D%3D?line=6'>7</a>\u001b[0m \u001b[39m# 5와 연결된 4,6,10 저장\u001b[39;00m\n\u001b[1;32m      <a href='vscode-notebook-cell:/Users/kang-youngmin/Desktop/coding/coding-test/BaekJoon/solving.ipynb#W6sZmlsZQ%3D%3D?line=7'>8</a>\u001b[0m \u001b[39m# 4,6,10이 다 빠지면 레벨 추가\u001b[39;00m\n\u001b[1;32m      <a href='vscode-notebook-cell:/Users/kang-youngmin/Desktop/coding/coding-test/BaekJoon/solving.ipynb#W6sZmlsZQ%3D%3D?line=8'>9</a>\u001b[0m parent \u001b[39m=\u001b[39m \u001b[39mset\u001b[39m(graph[start]) \u001b[39m#\u001b[39;00m\n",
      "\u001b[0;31mIndexError\u001b[0m: list assignment index out of range"
     ]
    }
   ],
   "source": [
    "visit = [False for _ in range(K+2)]\n",
    "\n",
    "def bfs(graph, start, visit):\n",
    "  sec = 0\n",
    "  queue = deque([start])\n",
    "  visit[start] = True\n",
    "  # 5와 연결된 4,6,10 저장\n",
    "  # 4,6,10이 다 빠지면 레벨 추가\n",
    "  parent = set(graph[start]) #\n",
    "  while (visit[K]==False) and queue:\n",
    "    #print(queue)\n",
    "    n = queue.popleft()\n",
    "    for i in graph[n]:\n",
    "      if not visit[i]:\n",
    "        queue.append(i)\n",
    "        visit[i]=True\n",
    "    if not set(queue).intersection(parent):\n",
    "      parent = set(queue)\n",
    "      #print(\"새로운 레벨 :\", parent)\n",
    "      sec += 1\n",
    "  sec+=1\n",
    "  print(sec)\n",
    "bfs(graph, N, visit)"
   ]
  },
  {
   "cell_type": "code",
   "execution_count": null,
   "metadata": {},
   "outputs": [],
   "source": [
    "# 수빈이는 걷거나 순간이동이 가능하다.\n",
    "# 걷는다면 1초 후 X-1, X+1로 이동가능하다.\n",
    "# 순간이동이라면 1초 후 2*X의 위치로 이동한다.\n",
    "# 결국 brute force문제임\n",
    "# 너비 우선 탐색으로 풀면 됨.\n",
    "# 한 스텝마다 세갈래 길이 있음.(뒤로 앞으로 순간이동)\n",
    "# 종료 조건은 어떻게 되는건가? 도착하거나 도착점에서 2이상 벗어나거나\n",
    "# 방문하는 시점에 또 방문을 원한다면 그것은 안됨.\n",
    "import sys\n",
    "from collections import deque\n",
    "input = sys.stdin.readline\n",
    "N, K = map(int, input().split())\n",
    "N = 5\n",
    "K = 17\n",
    "\n",
    "graph = [[]for _ in range(K+2)]\n",
    "for i in range(K+2):\n",
    "    if i == 0:\n",
    "        graph[i].append(1)\n",
    "    elif i == K:\n",
    "        pass\n",
    "    elif i==K+1:\n",
    "        graph[i].append(i-1)\n",
    "    else:\n",
    "        if i-1 not in graph[i]:\n",
    "            graph[i].append(i-1)\n",
    "        if i+1 not in graph[i]:    \n",
    "            graph[i].append(i+1)\n",
    "        if i*2 not in graph[i] and i*2 < K+2:\n",
    "            graph[i].append(i*2)\n",
    "visit = [False for _ in range(K+2)]\n",
    "\n",
    "def bfs(graph, start, visit):\n",
    "  sec = 1\n",
    "  queue = deque([start])\n",
    "  visit[start] = True\n",
    "  # 5와 연결된 4,6,10 저장\n",
    "  # 4,6,10이 다 빠지면 레벨 추가\n",
    "  parent = set(graph[start]) \n",
    "  while (visit[K]==False) and queue:\n",
    "    #print(queue)\n",
    "    n = queue.popleft()\n",
    "    for i in graph[n]:\n",
    "      if not visit[i]:\n",
    "        queue.append(i)\n",
    "        visit[i]=True\n",
    "    if not set(queue).intersection(parent):\n",
    "      parent = set(queue)\n",
    "      #print(\"새로운 레벨 :\", parent)\n",
    "      sec += 1\n",
    "  sec+=1\n",
    "  print(sec)\n",
    "bfs(graph, 5, visit)"
   ]
  },
  {
   "cell_type": "markdown",
   "metadata": {},
   "source": [
    "## 날짜 계산 문제 - 백준, 1476번 실버 5\n"
   ]
  },
  {
   "cell_type": "code",
   "execution_count": null,
   "metadata": {},
   "outputs": [],
   "source": [
    "# 준규가 사는 나라는 우리가 사용하는 연도와 다른 방식임.\n",
    "# 수 3개를 이용해 연도를 표현(지구, 태양, 달)\n",
    "# 1 ≤ 지구(E) ≤ 15, 1 ≤ 태양(S) ≤ 28, 1 ≤ 달(M) ≤ 19\n",
    "# brute하게 1 1 1부터 15 28 19까지 나타내는 수를 \n",
    "# 어차피 표시 가능한 수는 7980개밖에 안됨."
   ]
  },
  {
   "cell_type": "code",
   "execution_count": 14,
   "metadata": {},
   "outputs": [],
   "source": [
    "# 문제 상황: 1부터 다 구하면 시간초과가 나올 확률이 큼\n",
    "E, S, M = map(int, input().split())\n"
   ]
  },
  {
   "cell_type": "code",
   "execution_count": 25,
   "metadata": {},
   "outputs": [],
   "source": [
    "E, S, M = 15,28,19"
   ]
  },
  {
   "cell_type": "code",
   "execution_count": 28,
   "metadata": {},
   "outputs": [
    {
     "name": "stdout",
     "output_type": "stream",
     "text": [
      "7980\n"
     ]
    }
   ],
   "source": [
    "our_year = 1\n",
    "temp_E = 1\n",
    "temp_S = 1\n",
    "temp_M = 1\n",
    "for _ in range(1, 7981):\n",
    "    if temp_E == E and temp_S == S and temp_M == M:\n",
    "        print(our_year)\n",
    "        break\n",
    "    \n",
    "    if temp_E <15 and temp_S < 28 and temp_M < 19:\n",
    "        pass\n",
    "        \n",
    "    else:\n",
    "        if temp_E == 15:\n",
    "            temp_E = 0\n",
    "        if temp_S == 28:\n",
    "            temp_S = 0\n",
    "        if temp_M == 19:\n",
    "            temp_M = 0\n",
    "        \n",
    "    temp_M += 1\n",
    "    temp_S += 1\n",
    "    temp_E += 1\n",
    "    our_year += 1\n",
    "    "
   ]
  },
  {
   "cell_type": "code",
   "execution_count": 27,
   "metadata": {},
   "outputs": [
    {
     "data": {
      "text/plain": [
       "7980"
      ]
     },
     "execution_count": 27,
     "metadata": {},
     "output_type": "execute_result"
    }
   ],
   "source": [
    "our_year"
   ]
  },
  {
   "cell_type": "code",
   "execution_count": null,
   "metadata": {},
   "outputs": [],
   "source": []
  }
 ],
 "metadata": {
  "kernelspec": {
   "display_name": "base",
   "language": "python",
   "name": "python3"
  },
  "language_info": {
   "codemirror_mode": {
    "name": "ipython",
    "version": 3
   },
   "file_extension": ".py",
   "mimetype": "text/x-python",
   "name": "python",
   "nbconvert_exporter": "python",
   "pygments_lexer": "ipython3",
   "version": "3.9.17"
  }
 },
 "nbformat": 4,
 "nbformat_minor": 2
}
